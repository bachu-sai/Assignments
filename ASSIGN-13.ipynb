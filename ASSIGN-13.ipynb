{
 "cells": [
  {
   "cell_type": "code",
   "execution_count": null,
   "id": "c58a3821",
   "metadata": {},
   "outputs": [],
   "source": [
    "1. What advantages do Excel spreadsheets have over CSV spreadsheets?\n",
    "\n",
    "In Excel, spreadsheets can have values of data types other than strings; cells can have different fonts, sizes, or color settings; \n",
    "cells can have varying widths and heights; adjacent cells can be merged; and you can embed images and charts."
   ]
  },
  {
   "cell_type": "code",
   "execution_count": null,
   "id": "2f05e911",
   "metadata": {},
   "outputs": [],
   "source": [
    "2.What do you pass to csv.reader() and csv.writer() to create reader and writer objects?\n",
    "\n",
    "You pass a File object, obtained from a call to open()."
   ]
  },
  {
   "cell_type": "code",
   "execution_count": null,
   "id": "538ac360",
   "metadata": {},
   "outputs": [],
   "source": [
    "3. What modes do File objects for reader and writer objects need to be opened in?\n",
    "\n",
    "File objects need to be opened in read-binary ('rb') for Reader objects and write-binary ('wb') for Writer objects."
   ]
  },
  {
   "cell_type": "code",
   "execution_count": null,
   "id": "b297e70d",
   "metadata": {},
   "outputs": [],
   "source": [
    "4. What method takes a list argument and writes it to a CSV file?\n",
    "\n",
    "The writerow() method"
   ]
  },
  {
   "cell_type": "code",
   "execution_count": null,
   "id": "90577d3d",
   "metadata": {},
   "outputs": [],
   "source": [
    "5. What do the keyword arguments delimiter and line terminator do?\n",
    "\n",
    "The delimiter is the character that appears between cells on a row.By default, the delimiter for a CSV file is a comma. The line terminator is the character that comes at the end of a row. \n",
    "By default, the line terminator is a newline."
   ]
  },
  {
   "cell_type": "code",
   "execution_count": null,
   "id": "22e4c186",
   "metadata": {},
   "outputs": [],
   "source": [
    "6. What function takes a string of JSON data and returns a Python data structure?\n",
    "json.loads() method return Python data structure of JSON string or data"
   ]
  },
  {
   "cell_type": "code",
   "execution_count": null,
   "id": "560b09c1",
   "metadata": {},
   "outputs": [],
   "source": [
    "7. What function takes a Python data structure and returns a string of JSON data?\n",
    "\n",
    "json.dumps()"
   ]
  }
 ],
 "metadata": {
  "kernelspec": {
   "display_name": "Python 3 (ipykernel)",
   "language": "python",
   "name": "python3"
  },
  "language_info": {
   "codemirror_mode": {
    "name": "ipython",
    "version": 3
   },
   "file_extension": ".py",
   "mimetype": "text/x-python",
   "name": "python",
   "nbconvert_exporter": "python",
   "pygments_lexer": "ipython3",
   "version": "3.9.7"
  }
 },
 "nbformat": 4,
 "nbformat_minor": 5
}
