{
 "cells": [
  {
   "cell_type": "code",
   "execution_count": null,
   "id": "844172d5",
   "metadata": {},
   "outputs": [],
   "source": [
    "1. What is the result of the code, and why?"
   ]
  },
  {
   "cell_type": "code",
   "execution_count": 1,
   "id": "acc82658",
   "metadata": {},
   "outputs": [
    {
     "name": "stdout",
     "output_type": "stream",
     "text": [
      "1 2 8\n"
     ]
    }
   ],
   "source": [
    "def func(a, b=6, c=8):\n",
    "    print(a, b, c)\n",
    "func(1, 2)"
   ]
  },
  {
   "cell_type": "code",
   "execution_count": null,
   "id": "4011ed2d",
   "metadata": {},
   "outputs": [],
   "source": [
    "When we are calling function we are passing arguments so it overrides the values"
   ]
  },
  {
   "cell_type": "code",
   "execution_count": null,
   "id": "cdac3030",
   "metadata": {},
   "outputs": [],
   "source": [
    "2. What is the result of this code, and why?"
   ]
  },
  {
   "cell_type": "code",
   "execution_count": 2,
   "id": "86b354cc",
   "metadata": {},
   "outputs": [
    {
     "name": "stdout",
     "output_type": "stream",
     "text": [
      "1 2 3\n"
     ]
    }
   ],
   "source": [
    "def func(a, b, c=5):\n",
    "    print(a, b, c)\n",
    "func(1, c=3, b=2)"
   ]
  },
  {
   "cell_type": "code",
   "execution_count": null,
   "id": "2b241b00",
   "metadata": {},
   "outputs": [],
   "source": [
    "When we are calling function we are passing arguments so it overrides particular values of each variable"
   ]
  },
  {
   "cell_type": "code",
   "execution_count": null,
   "id": "29ba3231",
   "metadata": {},
   "outputs": [],
   "source": [
    "3. How about this code: what is its result, and why?"
   ]
  },
  {
   "cell_type": "code",
   "execution_count": 3,
   "id": "be4ac04b",
   "metadata": {},
   "outputs": [
    {
     "name": "stdout",
     "output_type": "stream",
     "text": [
      "1 (2, 3)\n"
     ]
    }
   ],
   "source": [
    "def func(a, *pargs):\n",
    "    print(a, pargs)\n",
    "func(1, 2, 3)"
   ]
  },
  {
   "cell_type": "code",
   "execution_count": null,
   "id": "6466b534",
   "metadata": {},
   "outputs": [],
   "source": [
    "Before *pargs  it is considered as positinal argument so value of a is 1 and 2,3 passed to *pargs it means we can pass multiple arguments"
   ]
  },
  {
   "cell_type": "code",
   "execution_count": null,
   "id": "93691a69",
   "metadata": {},
   "outputs": [],
   "source": [
    "4. What does this code print, and why?"
   ]
  },
  {
   "cell_type": "code",
   "execution_count": 4,
   "id": "e26fd3cd",
   "metadata": {},
   "outputs": [
    {
     "name": "stdout",
     "output_type": "stream",
     "text": [
      "1 {'c': 3, 'b': 2}\n"
     ]
    }
   ],
   "source": [
    "def func(a, **kargs):\n",
    "    print(a, kargs)\n",
    "func(a=1, c=3, b=2)"
   ]
  },
  {
   "cell_type": "code",
   "execution_count": null,
   "id": "3e025851",
   "metadata": {},
   "outputs": [],
   "source": [
    "**kargs is keyword arguments it takes binded values so c value is 3 and b value is 2 before **kwargs considered as positional argument"
   ]
  },
  {
   "cell_type": "code",
   "execution_count": null,
   "id": "9f86c075",
   "metadata": {},
   "outputs": [],
   "source": [
    "5. What gets printed by this, and explain?"
   ]
  },
  {
   "cell_type": "code",
   "execution_count": 5,
   "id": "ebd92135",
   "metadata": {},
   "outputs": [
    {
     "name": "stdout",
     "output_type": "stream",
     "text": [
      "1 5 6 5\n"
     ]
    }
   ],
   "source": [
    "def func(a, b, c=8, d=5): \n",
    "    print(a, b, c, d)\n",
    "func(1, *(5, 6))"
   ]
  },
  {
   "cell_type": "code",
   "execution_count": null,
   "id": "02e3de42",
   "metadata": {},
   "outputs": [],
   "source": [
    "Here a is considered as positional argument and b,c are multiple value arguments so 5 and 6 are the values and d value is 5"
   ]
  },
  {
   "cell_type": "code",
   "execution_count": null,
   "id": "013c7740",
   "metadata": {},
   "outputs": [],
   "source": [
    "6. what is the result of this, and explain?"
   ]
  },
  {
   "cell_type": "code",
   "execution_count": 16,
   "id": "f6aca121",
   "metadata": {},
   "outputs": [
    {
     "data": {
      "text/plain": [
       "(1, ['x'], {'a': 'y'})"
      ]
     },
     "execution_count": 16,
     "metadata": {},
     "output_type": "execute_result"
    }
   ],
   "source": [
    "def func(a, b, c):  \n",
    "    a = 2; b[0] = 'x'; c['a'] = 'y'\n",
    "    \n",
    "l=1; m=[1]; n={'a':0}\n",
    "func(l, m, n)\n",
    "l, m, n"
   ]
  },
  {
   "cell_type": "code",
   "execution_count": null,
   "id": "c02acc8c",
   "metadata": {},
   "outputs": [],
   "source": [
    "Here we are passing  l=1 but we are printing it outside function so l value is 1 and m is a list we are modifying it in the function as first element as 'x' and c is a dictionary we are changing value of key 'a' as 'y' so we are getting values as 1,['x'],{'a':'y'} "
   ]
  },
  {
   "cell_type": "code",
   "execution_count": null,
   "id": "6af6196b",
   "metadata": {},
   "outputs": [],
   "source": []
  }
 ],
 "metadata": {
  "kernelspec": {
   "display_name": "Python 3 (ipykernel)",
   "language": "python",
   "name": "python3"
  },
  "language_info": {
   "codemirror_mode": {
    "name": "ipython",
    "version": 3
   },
   "file_extension": ".py",
   "mimetype": "text/x-python",
   "name": "python",
   "nbconvert_exporter": "python",
   "pygments_lexer": "ipython3",
   "version": "3.9.7"
  }
 },
 "nbformat": 4,
 "nbformat_minor": 5
}
