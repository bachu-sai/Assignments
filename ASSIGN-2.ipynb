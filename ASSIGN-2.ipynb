{
 "cells": [
  {
   "cell_type": "code",
   "execution_count": null,
   "id": "abbd4db6",
   "metadata": {},
   "outputs": [],
   "source": [
    "1.What are the two values of the Boolean data type? How do you write them?\n",
    "\n",
    "There are two boolean data types i.e True or False. Generally, it is used to represent the truth values of the expressions.\n",
    "For example, 0==0 is True whereas 2<1 is False.\n"
   ]
  },
  {
   "cell_type": "code",
   "execution_count": null,
   "id": "a56a0366",
   "metadata": {},
   "outputs": [],
   "source": [
    "2. What are the three different types of Boolean operators?\n",
    "\n",
    "The three basic boolean operators are: AND, OR, and NOT."
   ]
  },
  {
   "cell_type": "code",
   "execution_count": null,
   "id": "b9ab9212",
   "metadata": {},
   "outputs": [],
   "source": [
    "3. Make a list of each Boolean operator's truth table\n",
    "\n",
    "  AND               OR          NOT\n",
    "0  0 -> 0        0  0 -> 0     0 -> 1\n",
    "0  1 -> 0        0  1 -> 1     1 -> 0\n",
    "1  0 -> 0        1  0 -> 1\n",
    "1  1 -> 1        1  1 -> 1"
   ]
  },
  {
   "cell_type": "code",
   "execution_count": null,
   "id": "5b330c3e",
   "metadata": {},
   "outputs": [],
   "source": [
    "4. What are the values of the following expressions?\n",
    "\n",
    "(5 > 4) and (3 == 5) -> False\n",
    "not (5 > 4)  -> False\n",
    "(5 > 4) or (3 == 5) -> True\n",
    "not ((5 > 4) or (3 == 5)) -> False\n",
    "(True and True) and (True == False) -> False\n",
    "(not False) or (not True) -> True"
   ]
  },
  {
   "cell_type": "code",
   "execution_count": null,
   "id": "2acf0de0",
   "metadata": {},
   "outputs": [],
   "source": [
    "5. What are the six comparison operators?\n",
    "\n",
    "There are six main comparison operators: equal to(==), not equal to(!=), greater than(>), greater than or equal to(>=), less than(<), and less than or equal to(<=)\n"
   ]
  },
  {
   "cell_type": "code",
   "execution_count": null,
   "id": "d4e7f77e",
   "metadata": {},
   "outputs": [],
   "source": [
    "6. How do you tell the difference between the equal to and assignment operators?Describe a\n",
    "condition and when you would use one.\n",
    "\n",
    "The “=” is an assignment operator is used to assign the value on the right to the variable on the left.\n",
    "Ex: a=10\n",
    "The ‘==’ operator checks whether the two given operands are equal or not. If so, it returns true. Otherwise it returns false.\n",
    "Ex: 5==5 returns True"
   ]
  },
  {
   "cell_type": "code",
   "execution_count": null,
   "id": "04ec774b",
   "metadata": {},
   "outputs": [],
   "source": [
    "7. Identify the three blocks in this code:\n",
    "spam = 0\n",
    "if spam == 10:\n",
    "    print('eggs')\n",
    "if spam > 5:\n",
    "    print('bacon')\n",
    "else:\n",
    "    print('ham')\n",
    "    print('spam')\n",
    "    print('spam')\n",
    "    \n",
    "1.) Assignment block\n",
    "2.) If block\n",
    "3.) If-else block"
   ]
  },
  {
   "cell_type": "code",
   "execution_count": null,
   "id": "5d9069ee",
   "metadata": {},
   "outputs": [],
   "source": [
    "8. Write code that prints Hello if 1 is stored in spam, prints Howdy if 2 is stored in spam, and prints\n",
    "Greetings! if anything else is stored in spam.\n",
    "\n",
    "if(spam==1):\n",
    "    print('Hello')\n",
    "if(spam==2):\n",
    "    print('Howdy')\n",
    "else:\n",
    "    print('Greetings!')\n",
    "    "
   ]
  },
  {
   "cell_type": "code",
   "execution_count": null,
   "id": "b8cd75e3",
   "metadata": {},
   "outputs": [],
   "source": [
    "9.If your programme is stuck in an endless loop, what keys you’ll press?\n",
    "\n",
    "  Ctrl+C is key to come out of loop"
   ]
  },
  {
   "cell_type": "code",
   "execution_count": null,
   "id": "919b8458",
   "metadata": {},
   "outputs": [],
   "source": [
    "10. How can you tell the difference between break and continue?\n",
    " \n",
    "    The main difference between break and continue statement is that when break keyword is encountered, it will exit the loop. In case of continue keyword, the current iteration that is running will be stopped, and it will proceed with the next iteration.\n",
    "    Ex: i=4                              \n",
    "        while(i==6):\n",
    "            break\n",
    "            i=i+1\n",
    "        print('hi')\n",
    "        \n",
    "   Ex: for i in 'alee':\n",
    "        if(i=='l'):\n",
    "            continue\n",
    "        print(i)"
   ]
  },
  {
   "cell_type": "code",
   "execution_count": null,
   "id": "a7030e90",
   "metadata": {},
   "outputs": [],
   "source": [
    "11. In a for loop, what is the difference between range(10), range(0, 10), and range(0, 10, 1)?\n",
    " \n",
    "    All gives same output 0 1 2 3 4 5 6 7 8 9 "
   ]
  },
  {
   "cell_type": "code",
   "execution_count": null,
   "id": "0c8b91c0",
   "metadata": {},
   "outputs": [],
   "source": [
    "12. Write a short program that prints the numbers 1 to 10 using a for loop. Then write an equivalent\n",
    "program that prints the numbers 1 to 10 using a while loop.\n",
    "\n",
    " For loop:\n",
    " for i in range(1,11):\n",
    "        print(i)\n",
    "        \n",
    " While loop:\n",
    "    i=1\n",
    "    while(i<=10):\n",
    "        print(i)\n",
    "        i=i+1\n",
    "        \n",
    " \n",
    "        \n",
    " "
   ]
  },
  {
   "cell_type": "code",
   "execution_count": null,
   "id": "c773054e",
   "metadata": {},
   "outputs": [],
   "source": [
    "13. If you had a function named bacon() inside a module named spam, how would you call it after importing spam?\n",
    "\n",
    "    This function can be called with spam.bacon()."
   ]
  }
 ],
 "metadata": {
  "kernelspec": {
   "display_name": "Python 3 (ipykernel)",
   "language": "python",
   "name": "python3"
  },
  "language_info": {
   "codemirror_mode": {
    "name": "ipython",
    "version": 3
   },
   "file_extension": ".py",
   "mimetype": "text/x-python",
   "name": "python",
   "nbconvert_exporter": "python",
   "pygments_lexer": "ipython3",
   "version": "3.9.7"
  }
 },
 "nbformat": 4,
 "nbformat_minor": 5
}
