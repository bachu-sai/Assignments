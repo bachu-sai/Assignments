{
 "cells": [
  {
   "cell_type": "code",
   "execution_count": null,
   "id": "98705be8",
   "metadata": {},
   "outputs": [],
   "source": [
    "1. Add the current date to the text file today.txt as a string."
   ]
  },
  {
   "cell_type": "code",
   "execution_count": 2,
   "id": "01f56d11",
   "metadata": {},
   "outputs": [],
   "source": [
    "from datetime import date\n",
    "f=open('today.txt','w')\n",
    "f.write(str(date.today()))\n",
    "f.close()"
   ]
  },
  {
   "cell_type": "code",
   "execution_count": null,
   "id": "14197b80",
   "metadata": {},
   "outputs": [],
   "source": [
    "2. Read the text file today.txt into the string today_string"
   ]
  },
  {
   "cell_type": "code",
   "execution_count": 3,
   "id": "9b3c81b7",
   "metadata": {},
   "outputs": [
    {
     "name": "stdout",
     "output_type": "stream",
     "text": [
      "2022-02-11\n"
     ]
    }
   ],
   "source": [
    "f=open('today.txt','r')\n",
    "today_string=f.read()\n",
    "print(today_string)"
   ]
  },
  {
   "cell_type": "code",
   "execution_count": null,
   "id": "990093f4",
   "metadata": {},
   "outputs": [],
   "source": [
    "3. Parse the date from today_string."
   ]
  },
  {
   "cell_type": "code",
   "execution_count": 8,
   "id": "15d17fb2",
   "metadata": {},
   "outputs": [
    {
     "data": {
      "text/plain": [
       "'11/02/2022'"
      ]
     },
     "execution_count": 8,
     "metadata": {},
     "output_type": "execute_result"
    }
   ],
   "source": [
    "import datetime\n",
    "datetime.datetime.strptime(today_string, '%Y-%m-%d').strftime('%d/%m/%Y')"
   ]
  },
  {
   "cell_type": "code",
   "execution_count": null,
   "id": "d5643b8e",
   "metadata": {},
   "outputs": [],
   "source": [
    "4. List the files in your current directory"
   ]
  },
  {
   "cell_type": "code",
   "execution_count": 9,
   "id": "17f97858",
   "metadata": {},
   "outputs": [
    {
     "name": "stdout",
     "output_type": "stream",
     "text": [
      " Volume in drive C is OS\n",
      " Volume Serial Number is 902A-C161\n",
      "\n",
      " Directory of C:\\Users\\bachu\\ASSIGNMENTS\n",
      "\n",
      "2022-02-11  06:53 PM    <DIR>          .\n",
      "2022-02-09  11:28 PM    <DIR>          ..\n",
      "2022-02-11  06:35 PM    <DIR>          .ipynb_checkpoints\n",
      "2022-02-08  04:10 PM    <DIR>          __pycache__\n",
      "2021-12-16  12:31 PM             5,306 ASSIGN-1.ipynb\n",
      "2022-01-25  08:37 PM             2,876 ASSIGN-10.ipynb\n",
      "2022-01-25  10:44 PM             4,639 ASSIGN-11.ipynb\n",
      "2022-01-31  02:07 PM             5,438 ASSIGN-12.ipynb\n",
      "2022-02-01  10:31 AM             2,903 ASSIGN-13.ipynb\n",
      "2022-02-01  11:08 AM             3,213 ASSIGN-14.ipynb\n",
      "2022-02-01  11:08 PM             5,008 ASSIGN-15.ipynb\n",
      "2022-02-02  11:16 PM            10,162 ASSIGN-16.ipynb\n",
      "2022-02-05  04:23 PM             8,472 ASSIGN-17.ipynb\n",
      "2022-02-08  04:46 PM             6,649 ASSIGN-18.ipynb\n",
      "2022-02-10  09:06 PM            10,242 ASSIGN-19.ipynb\n",
      "2021-12-28  11:13 PM             6,263 ASSIGN-2.ipynb\n",
      "2022-02-11  02:10 PM             9,267 ASSIGN-20.ipynb\n",
      "2022-01-03  04:01 PM             5,043 ASSIGN-3.ipynb\n",
      "2022-01-04  11:12 PM             6,142 ASSIGN-4.ipynb\n",
      "2022-01-05  03:15 PM             3,003 ASSIGN-5.ipynb\n",
      "2022-01-14  01:52 PM             8,282 ASSIGN-7.ipynb\n",
      "2022-01-14  03:26 PM             3,034 ASSIGN-8.ipynb\n",
      "2022-01-25  04:09 PM             3,410 ASSIGN-9.ipynb\n",
      "2022-02-10  11:39 PM             8,192 book.db\n",
      "2022-02-10  11:36 PM               208 books.csv\n",
      "2022-02-10  11:08 PM            12,288 books.db\n",
      "2022-01-31  01:35 PM            36,679 gfg.docx\n",
      "2022-02-01  10:49 AM           416,586 nature.jpg\n",
      "2022-02-10  10:19 PM                44 test.txt\n",
      "2022-02-11  06:38 PM                10 today.txt\n",
      "2022-02-11  06:53 PM             2,331 Untitled.ipynb\n",
      "2022-02-08  04:09 PM                41 zoo.py\n",
      "              28 File(s)        585,731 bytes\n",
      "               4 Dir(s)  304,114,774,016 bytes free\n"
     ]
    }
   ],
   "source": [
    "ls"
   ]
  },
  {
   "cell_type": "code",
   "execution_count": 12,
   "id": "dec1287d",
   "metadata": {},
   "outputs": [
    {
     "name": "stdout",
     "output_type": "stream",
     "text": [
      "['.ipynb_checkpoints', 'ASSIGN-1.ipynb', 'ASSIGN-10.ipynb', 'ASSIGN-11.ipynb', 'ASSIGN-12.ipynb', 'ASSIGN-13.ipynb', 'ASSIGN-14.ipynb', 'ASSIGN-15.ipynb', 'ASSIGN-16.ipynb', 'ASSIGN-17.ipynb', 'ASSIGN-18.ipynb', 'ASSIGN-19.ipynb', 'ASSIGN-2.ipynb', 'ASSIGN-20.ipynb', 'ASSIGN-3.ipynb', 'ASSIGN-4.ipynb', 'ASSIGN-5.ipynb', 'ASSIGN-7.ipynb', 'ASSIGN-8.ipynb', 'ASSIGN-9.ipynb', 'book.db', 'books.csv', 'books.db', 'gfg.docx', 'nature.jpg', 'test.txt', 'today.txt', 'Untitled.ipynb', 'zoo.py', '__pycache__']\n"
     ]
    }
   ],
   "source": [
    "import os\n",
    "path='C:\\\\Users\\\\bachu\\\\ASSIGNMENTS'\n",
    "dir_list = os.listdir(path)\n",
    "print(dir_list)"
   ]
  },
  {
   "cell_type": "code",
   "execution_count": null,
   "id": "6626abc4",
   "metadata": {},
   "outputs": [],
   "source": [
    "5. Create a list of all of the files in your parent directory (minimum five files should be available)."
   ]
  },
  {
   "cell_type": "code",
   "execution_count": 15,
   "id": "79fe1d7d",
   "metadata": {},
   "outputs": [],
   "source": [
    "import os.path\n",
    "p=os.path.dirname('C:\\\\Users\\\\bachu\\\\ASSIGNMENTS')"
   ]
  },
  {
   "cell_type": "code",
   "execution_count": 16,
   "id": "ece8b299",
   "metadata": {},
   "outputs": [
    {
     "name": "stdout",
     "output_type": "stream",
     "text": [
      "['.cache', '.conda', '.condarc', '.continuum', '.eclipse', '.ipynb_checkpoints', '.ipython', '.jupyter', '.matplotlib', '.p2', '.VirtualBox', '.vscode', '3D Objects', 'agra.txt', 'anaconda3', 'AP18110010289_Bachu Sai Alekhya.pdf', 'AppData', 'Application Data', 'ASSIGN-6.ipynb', 'ASSIGNMENTS', 'car.data', 'Community Session.ipynb', 'Contacts', 'Cookies', 'Database_ineuron.ipynb', 'Documents', 'Downloads', 'eclipse', 'eclipse-workspace', 'Favorites', 'glass.data', 'IntelGraphicsProfiles', 'KRISH NAIK.ipynb', 'Links', 'Local Settings', 'mercedesbenz.csv', 'Music', 'My Documents', 'nature.jpg', 'NetHood', 'NTUSER.DAT', 'ntuser.dat.LOG1', 'ntuser.dat.LOG2', 'NTUSER.DAT{1c2b59c6-c5f5-11eb-bacb-000d3a96488e}.TM.blf', 'NTUSER.DAT{1c2b59c6-c5f5-11eb-bacb-000d3a96488e}.TMContainer00000000000000000001.regtrans-ms', 'NTUSER.DAT{1c2b59c6-c5f5-11eb-bacb-000d3a96488e}.TMContainer00000000000000000002.regtrans-ms', 'ntuser.ini', 'OneDrive', 'PrintHood', 'PycharmProjects', 'Python_ineuron.ipynb', 'Recent', 'Saved Games', 'Searches', 'SendTo', 'Start Menu', 't1.txt', 't2.py', 'Templates', 'Test.csv', 'test.log', 'test.txt', 'Test1.csv', 'test1.txt', 'test2.log', 'test3.log', 'test34.txt', 'Videos', 'VirtualBox VMs', 'wine.csv', '__pycache__']\n"
     ]
    }
   ],
   "source": [
    "dir_list=os.listdir(p)\n",
    "print(dir_list)"
   ]
  },
  {
   "cell_type": "code",
   "execution_count": null,
   "id": "34d52b94",
   "metadata": {},
   "outputs": [],
   "source": [
    "6. Use multiprocessing to create three separate processes. Make each one wait a random number of\n",
    "seconds between one and five, print the current time, and then exit."
   ]
  },
  {
   "cell_type": "code",
   "execution_count": 2,
   "id": "fb87cec3",
   "metadata": {},
   "outputs": [],
   "source": [
    "import multiprocessing\n",
    "import time\n",
    "from datetime import datetime"
   ]
  },
  {
   "cell_type": "code",
   "execution_count": 4,
   "id": "e0313236",
   "metadata": {},
   "outputs": [],
   "source": [
    "def time_wait():\n",
    "    time.sleep(randint(1,5))\n",
    "def curr_time():\n",
    "    now = datetime.now()\n",
    "    current_time = now.strftime(\"%H:%M:%S\")\n",
    "    print(\"Current Time =\", current_time)\n",
    "    \n",
    "\n",
    "if __name__ == \"__main__\":\n",
    "    p1 = multiprocessing.Process(target=time_wait)\n",
    "    p1 = multiprocessing.Process(target=curr_time)\n",
    "    p2 = multiprocessing.Process(target=time_wait)\n",
    "    p2 = multiprocessing.Process(target=curr_time)\n",
    "    p3 = multiprocessing.Process(target=time_wait)\n",
    "    p3 = multiprocessing.Process(target=curr_time)\n",
    "    p1.start()\n",
    "    p2.start()\n",
    "    p3.start()\n",
    "    p1.join()\n",
    "    p2.join()\n",
    "    p3.join()"
   ]
  },
  {
   "cell_type": "code",
   "execution_count": null,
   "id": "fa30f65c",
   "metadata": {},
   "outputs": [],
   "source": [
    "7. Create a date object of your day of birth."
   ]
  },
  {
   "cell_type": "code",
   "execution_count": 18,
   "id": "162f97e4",
   "metadata": {},
   "outputs": [
    {
     "name": "stdout",
     "output_type": "stream",
     "text": [
      "2001-03-10 00:00:00\n"
     ]
    }
   ],
   "source": [
    "import datetime\n",
    "\n",
    "x = datetime.datetime(2001, 3, 10)\n",
    "\n",
    "print(x)\n"
   ]
  },
  {
   "cell_type": "code",
   "execution_count": null,
   "id": "902825aa",
   "metadata": {},
   "outputs": [],
   "source": [
    "8. What day of the week was your day of birth?"
   ]
  },
  {
   "cell_type": "code",
   "execution_count": 19,
   "id": "fccaa894",
   "metadata": {},
   "outputs": [
    {
     "name": "stdout",
     "output_type": "stream",
     "text": [
      "Saturday\n"
     ]
    }
   ],
   "source": [
    "import datetime\n",
    "import calendar\n",
    " \n",
    "def findDay(date):\n",
    "    born = datetime.datetime.strptime(date, '%d %m %Y').weekday()\n",
    "    return (calendar.day_name[born])\n",
    " \n",
    "\n",
    "date = '10 03 2001'\n",
    "print(findDay(date))"
   ]
  },
  {
   "cell_type": "code",
   "execution_count": null,
   "id": "2b0652af",
   "metadata": {},
   "outputs": [],
   "source": [
    "9. When will you be (or when were you) 10000 days old?"
   ]
  },
  {
   "cell_type": "code",
   "execution_count": 20,
   "id": "f1e1211b",
   "metadata": {},
   "outputs": [
    {
     "name": "stdout",
     "output_type": "stream",
     "text": [
      "Beginning date\n",
      "2022-02-11\n",
      "Ending date\n",
      "2049-06-29\n"
     ]
    }
   ],
   "source": [
    "from datetime import timedelta\n",
    "from datetime import date\n",
    "  \n",
    "\n",
    "Begindatestring = date.today()\n",
    "  \n",
    "\n",
    "print(\"Beginning date\")\n",
    "print(Begindatestring)\n",
    "  \n",
    "\n",
    "Enddate = Begindatestring + timedelta(days=10000)\n",
    "  \n",
    "\n",
    "print(\"Ending date\")\n",
    "print(Enddate)"
   ]
  },
  {
   "cell_type": "code",
   "execution_count": null,
   "id": "b36bb7a1",
   "metadata": {},
   "outputs": [],
   "source": []
  }
 ],
 "metadata": {
  "kernelspec": {
   "display_name": "Python 3 (ipykernel)",
   "language": "python",
   "name": "python3"
  },
  "language_info": {
   "codemirror_mode": {
    "name": "ipython",
    "version": 3
   },
   "file_extension": ".py",
   "mimetype": "text/x-python",
   "name": "python",
   "nbconvert_exporter": "python",
   "pygments_lexer": "ipython3",
   "version": "3.9.7"
  }
 },
 "nbformat": 4,
 "nbformat_minor": 5
}
