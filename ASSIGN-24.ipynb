{
 "cells": [
  {
   "cell_type": "code",
   "execution_count": null,
   "id": "351ec595",
   "metadata": {},
   "outputs": [],
   "source": [
    "1. What is the relationship between def statements and lambda expressions ?\n",
    "\n",
    "A lambda is an expression producing a function. A def is a statement producing a function."
   ]
  },
  {
   "cell_type": "code",
   "execution_count": null,
   "id": "2f25908f",
   "metadata": {},
   "outputs": [],
   "source": [
    "2. What is the benefit of lambda?\n",
    "\n",
    "One of the most benefits of a lambda expression is to reduce the amount of code. The lambda keyword in Python provides a shortcut for declaring small anonymous functions."
   ]
  },
  {
   "cell_type": "code",
   "execution_count": null,
   "id": "4537b90e",
   "metadata": {},
   "outputs": [],
   "source": [
    "3. Compare and contrast map, filter, and reduce.\n",
    "\n",
    "All three of these methods expect a function object as the first argument.\n",
    "The map() function iterates through all items in the given iterable and executes the function we passed as an argument on each of them.\n",
    "map() returns list of boolean values.\n",
    "Similar to map(), filter() takes a function object and an iterable and creates a new list.\n",
    "As the name suggests, filter() forms a new list that contains only elements that satisfy a certain condition, i.e. the function we passed returns True.\n",
    "reduce() works differently than map() and filter(). It does not return a new list based on the function and iterable we've passed. Instead, it returns a single value."
   ]
  },
  {
   "cell_type": "code",
   "execution_count": null,
   "id": "9e218a3f",
   "metadata": {},
   "outputs": [],
   "source": [
    "4. What are function annotations, and how are they used?\n",
    "\n",
    "Function annotations are arbitrary python expressions that are associated with various part of functions. These expressions are evaluated at compile time and have no life in python’s runtime environment. Python does not attach any meaning to these annotations.\n",
    "The benefits from function annotations can only be reaped via third party libraries.String based annotations can be used by the libraries to provide better help messages at compile time regarding the functionalities of various methods, classes and modules."
   ]
  },
  {
   "cell_type": "code",
   "execution_count": null,
   "id": "fa547d03",
   "metadata": {},
   "outputs": [],
   "source": [
    "5. What are recursive functions, and how are they used?\n",
    "\n",
    "A recursive function is a function that calls itself during its execution. The process may repeat several times, outputting the result and the end of each iteration.\n",
    "Recursion is made for solving problems that can be broken down into smaller, repetitive problems. It is especially good for working on things that have many possible branches and are too complex for an iterative approach. "
   ]
  },
  {
   "cell_type": "code",
   "execution_count": null,
   "id": "65f4ae0d",
   "metadata": {},
   "outputs": [],
   "source": [
    "6. What are some general design guidelines for coding functions?\n",
    "\n",
    "Limited use of globals\n",
    "Standard headers for different modules\n",
    "Naming conventions for local variables, global variables, constants and functions\n",
    "Indentation\n",
    "Error return values and exception handling conventions"
   ]
  },
  {
   "cell_type": "code",
   "execution_count": null,
   "id": "b2b73e5d",
   "metadata": {},
   "outputs": [],
   "source": [
    "7. Name three or more ways that functions can communicate results to a caller.\n",
    "\n",
    "lambda,yield,return functions can communicate results to a caller.\n"
   ]
  }
 ],
 "metadata": {
  "kernelspec": {
   "display_name": "Python 3 (ipykernel)",
   "language": "python",
   "name": "python3"
  },
  "language_info": {
   "codemirror_mode": {
    "name": "ipython",
    "version": 3
   },
   "file_extension": ".py",
   "mimetype": "text/x-python",
   "name": "python",
   "nbconvert_exporter": "python",
   "pygments_lexer": "ipython3",
   "version": "3.9.7"
  }
 },
 "nbformat": 4,
 "nbformat_minor": 5
}
