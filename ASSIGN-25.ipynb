{
 "cells": [
  {
   "cell_type": "code",
   "execution_count": null,
   "id": "7f4bdf10",
   "metadata": {},
   "outputs": [],
   "source": [
    "1. What is the difference between enclosing a list comprehension in square brackets and parentheses?\n",
    "\n",
    "The difference between the two kinds of expressions is that the List comprehension is enclosed in square brackets [] while the Generator expression is enclosed in plain parentheses ()."
   ]
  },
  {
   "cell_type": "code",
   "execution_count": null,
   "id": "ef42b76d",
   "metadata": {},
   "outputs": [],
   "source": [
    "2. What is the relationship between generators and iterators?\n",
    "Generators. It is another way of creating iterators in a simple way where it uses the keyword “yield” instead of returning it in a defined function. Generators are implemented using a function. Just as iterators, generators also follow lazy evaluation."
   ]
  },
  {
   "cell_type": "code",
   "execution_count": null,
   "id": "19f299be",
   "metadata": {},
   "outputs": [],
   "source": [
    "3. What are the signs that a function is a generator function?\n",
    "\n",
    "If a function contains at least one yield statement (it may contain other yield or return statements), it becomes a generator function. "
   ]
  },
  {
   "cell_type": "code",
   "execution_count": null,
   "id": "e68c14dc",
   "metadata": {},
   "outputs": [],
   "source": [
    "4. What is the purpose of a yield statement?\n",
    "\n",
    "The yield statement suspends function execution and sends a value back to the caller, but retains enough state to enable function to resume where it is left off."
   ]
  },
  {
   "cell_type": "code",
   "execution_count": null,
   "id": "cb901e33",
   "metadata": {},
   "outputs": [],
   "source": [
    "5. What is the relationship between map calls and list comprehensions? Make a comparison and contrast between the two.\n",
    "\n",
    "List comprehension is more concise and easier to read as compared to map. List comprehension are used when a list of results is required as map only returns a map object and does not return any list. Map is faster in case of calling an already defined function ."
   ]
  },
  {
   "cell_type": "code",
   "execution_count": null,
   "id": "d3aae4be",
   "metadata": {},
   "outputs": [],
   "source": []
  }
 ],
 "metadata": {
  "kernelspec": {
   "display_name": "Python 3 (ipykernel)",
   "language": "python",
   "name": "python3"
  },
  "language_info": {
   "codemirror_mode": {
    "name": "ipython",
    "version": 3
   },
   "file_extension": ".py",
   "mimetype": "text/x-python",
   "name": "python",
   "nbconvert_exporter": "python",
   "pygments_lexer": "ipython3",
   "version": "3.9.7"
  }
 },
 "nbformat": 4,
 "nbformat_minor": 5
}
