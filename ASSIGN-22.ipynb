{
 "cells": [
  {
   "cell_type": "code",
   "execution_count": null,
   "id": "d2650569",
   "metadata": {},
   "outputs": [],
   "source": [
    "1. What is the result of the code, and explain?"
   ]
  },
  {
   "cell_type": "code",
   "execution_count": 1,
   "id": "f6b1b33c",
   "metadata": {},
   "outputs": [
    {
     "name": "stdout",
     "output_type": "stream",
     "text": [
      "iNeuron\n"
     ]
    }
   ],
   "source": [
    "X = 'iNeuron'\n",
    "def func():\n",
    "    print(X)\n",
    "\n",
    "func()"
   ]
  },
  {
   "cell_type": "code",
   "execution_count": null,
   "id": "f2ecb8ee",
   "metadata": {},
   "outputs": [],
   "source": [
    "Here X acts as global variable and print statement is present inside function so it prints iNeuron"
   ]
  },
  {
   "cell_type": "code",
   "execution_count": null,
   "id": "793008ac",
   "metadata": {},
   "outputs": [],
   "source": [
    "2. What is the result of the code, and explain?"
   ]
  },
  {
   "cell_type": "code",
   "execution_count": 4,
   "id": "feef61e0",
   "metadata": {},
   "outputs": [
    {
     "name": "stdout",
     "output_type": "stream",
     "text": [
      "iNeuron\n"
     ]
    }
   ],
   "source": [
    "X = 'iNeuron'\n",
    "def func():\n",
    "    X = 'NI!'\n",
    "func()\n",
    "print(X)"
   ]
  },
  {
   "cell_type": "code",
   "execution_count": 3,
   "id": "ca1aaddc",
   "metadata": {},
   "outputs": [],
   "source": [
    "Here X as local and global scope but inside function we don't have print statement and outside function we have print statement so it prints global scope variable value"
   ]
  },
  {
   "cell_type": "code",
   "execution_count": null,
   "id": "5e9eba0b",
   "metadata": {},
   "outputs": [],
   "source": [
    "3. What does this code print, and why?"
   ]
  },
  {
   "cell_type": "code",
   "execution_count": 5,
   "id": "221a3b02",
   "metadata": {},
   "outputs": [
    {
     "name": "stdout",
     "output_type": "stream",
     "text": [
      "NI\n",
      "iNeuron\n"
     ]
    }
   ],
   "source": [
    "X = 'iNeuron'\n",
    "def func():\n",
    "    X = 'NI'\n",
    "    print(X)\n",
    "\n",
    "func()\n",
    "print(X)"
   ]
  },
  {
   "cell_type": "code",
   "execution_count": null,
   "id": "b6a1d73d",
   "metadata": {},
   "outputs": [],
   "source": [
    "In function we have print statement so when we call it printd local scope of X and outside function we have print statement so it prints global scope of X"
   ]
  },
  {
   "cell_type": "code",
   "execution_count": null,
   "id": "4bd10915",
   "metadata": {},
   "outputs": [],
   "source": [
    "4. What output does this code produce? Why?"
   ]
  },
  {
   "cell_type": "code",
   "execution_count": 6,
   "id": "653f8d89",
   "metadata": {},
   "outputs": [
    {
     "name": "stdout",
     "output_type": "stream",
     "text": [
      "NI\n"
     ]
    }
   ],
   "source": [
    "X = 'iNeuron'\n",
    "def func():\n",
    "    global X\n",
    "    X = 'NI'\n",
    "\n",
    "func()\n",
    "print(X)"
   ]
  },
  {
   "cell_type": "code",
   "execution_count": null,
   "id": "3d3d7e52",
   "metadata": {},
   "outputs": [],
   "source": [
    "Here we want to assign new value to global variable so we used global keyword and if we use print statement inside and outside function it will print NI"
   ]
  },
  {
   "cell_type": "code",
   "execution_count": null,
   "id": "c3849bd8",
   "metadata": {},
   "outputs": [],
   "source": [
    "5. What about this code—what’s the output, and why?"
   ]
  },
  {
   "cell_type": "code",
   "execution_count": 7,
   "id": "a260c176",
   "metadata": {},
   "outputs": [
    {
     "data": {
      "text/plain": [
       "'iNeuron'"
      ]
     },
     "execution_count": 7,
     "metadata": {},
     "output_type": "execute_result"
    }
   ],
   "source": [
    "X = 'iNeuron'\n",
    "def func():\n",
    "    X = 'NI'\n",
    "    def nested():\n",
    "        print(X)\n",
    "        nested()\n",
    "\n",
    "func()\n",
    "X"
   ]
  },
  {
   "cell_type": "code",
   "execution_count": null,
   "id": "c7f06e65",
   "metadata": {},
   "outputs": [],
   "source": [
    "Here X is global scope variable we cannot assign new value to global variable instead we need to mention global keyword so that is the reason it prints iNeuron"
   ]
  },
  {
   "cell_type": "code",
   "execution_count": null,
   "id": "fb820ccc",
   "metadata": {},
   "outputs": [],
   "source": [
    "6. How about this code: what is its output in Python 3, and explain?"
   ]
  },
  {
   "cell_type": "code",
   "execution_count": 9,
   "id": "a1e95bb4",
   "metadata": {},
   "outputs": [],
   "source": [
    "def func():\n",
    "    X = 'NI'\n",
    "    def nested():\n",
    "        nonlocal X\n",
    "        X = 'Spam'\n",
    "        nested()\n",
    "        print(X)\n",
    "\n",
    "func()"
   ]
  },
  {
   "cell_type": "code",
   "execution_count": null,
   "id": "b44fd34b",
   "metadata": {},
   "outputs": [],
   "source": [
    "It does not  give any output because recursion goes on inside func() "
   ]
  }
 ],
 "metadata": {
  "kernelspec": {
   "display_name": "Python 3 (ipykernel)",
   "language": "python",
   "name": "python3"
  },
  "language_info": {
   "codemirror_mode": {
    "name": "ipython",
    "version": 3
   },
   "file_extension": ".py",
   "mimetype": "text/x-python",
   "name": "python",
   "nbconvert_exporter": "python",
   "pygments_lexer": "ipython3",
   "version": "3.9.7"
  }
 },
 "nbformat": 4,
 "nbformat_minor": 5
}
