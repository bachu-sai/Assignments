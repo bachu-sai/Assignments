{
 "cells": [
  {
   "cell_type": "code",
   "execution_count": null,
   "id": "ef151735",
   "metadata": {},
   "outputs": [],
   "source": [
    "1. Why are functions advantageous to have in your programs?\n",
    "\n",
    "Functions reduce the need for duplicate code. This makes programs shorter, easier to read, and easier to update.\n",
    "Functions enable reuse of code, improve maintainability and scalability."
   ]
  },
  {
   "cell_type": "code",
   "execution_count": null,
   "id": "321cf0cb",
   "metadata": {},
   "outputs": [],
   "source": [
    "2. When does the code in a function run: when it's specified or when it's called?\n",
    "    \n",
    "    The code in a function runs when it's called it executes body of function"
   ]
  },
  {
   "cell_type": "code",
   "execution_count": null,
   "id": "05b2aef1",
   "metadata": {},
   "outputs": [],
   "source": [
    "3. What statement creates a function?\n",
    "Function blocks begin with the keyword def followed by the function name and parentheses  ( ) ."
   ]
  },
  {
   "cell_type": "code",
   "execution_count": null,
   "id": "f6da0144",
   "metadata": {},
   "outputs": [],
   "source": [
    "4. What is the difference between a function and a function call?\n",
    "A function is procedure to achieve a particular result while function call is using this function to achive that task"
   ]
  },
  {
   "cell_type": "code",
   "execution_count": null,
   "id": "f2432558",
   "metadata": {},
   "outputs": [],
   "source": [
    "5. How many global scopes are there in a Python program? How many local scopes?\n",
    "There is one global scope, and a local scope is created whenever a function is called."
   ]
  },
  {
   "cell_type": "code",
   "execution_count": null,
   "id": "1afd9ff1",
   "metadata": {},
   "outputs": [],
   "source": [
    "6. What happens to variables in a local scope when the function call returns?\n",
    "When the execution of the function terminates (returns), the local variables are destroyed."
   ]
  },
  {
   "cell_type": "code",
   "execution_count": null,
   "id": "80656fb8",
   "metadata": {},
   "outputs": [],
   "source": [
    "7. What is the concept of a return value? Is it possible to have a return value in an expression?\n",
    " A return value is the value that a function call evaluates to. Like any value, a return value can be used as part of an expression."
   ]
  },
  {
   "cell_type": "code",
   "execution_count": null,
   "id": "a47e0a06",
   "metadata": {},
   "outputs": [],
   "source": [
    "8. If a function does not have a return statement, what is the return value of a call to that function?\n",
    "A function does not have a return statement the return value of a call to that function then the special value None is returned. "
   ]
  },
  {
   "cell_type": "code",
   "execution_count": null,
   "id": "a8d8bfa3",
   "metadata": {},
   "outputs": [],
   "source": [
    "9. How do you make a function variable refer to the global variable?\n",
    "Using global keyword make a function variable refer to the global variable"
   ]
  },
  {
   "cell_type": "code",
   "execution_count": null,
   "id": "6e08cce1",
   "metadata": {},
   "outputs": [],
   "source": [
    "10. What is the data type of None?\n",
    "Data type of None is Nonetype"
   ]
  },
  {
   "cell_type": "code",
   "execution_count": null,
   "id": "8b0b5910",
   "metadata": {},
   "outputs": [],
   "source": [
    "11. What does the sentence import areallyourpetsnamederic do?\n",
    "That import statement imports a module named areallyourpetsnamederic."
   ]
  },
  {
   "cell_type": "code",
   "execution_count": null,
   "id": "deaf9339",
   "metadata": {},
   "outputs": [],
   "source": [
    "12. If you had a bacon() feature in a spam module, what would you call it after importing spam?\n",
    "This function can be called with spam.bacon()"
   ]
  },
  {
   "cell_type": "code",
   "execution_count": null,
   "id": "6b33c997",
   "metadata": {},
   "outputs": [],
   "source": [
    "13. What can you do to save a programme from crashing if it encounters an error?\n",
    "Place the line of code that might cause an error in a try clause."
   ]
  },
  {
   "cell_type": "code",
   "execution_count": null,
   "id": "228dbda5",
   "metadata": {},
   "outputs": [],
   "source": [
    "14. What is the purpose of the try clause? What is the purpose of the except clause?\n",
    "The code that could potentially cause an error goes in the try clause.\n",
    "\n",
    "The code that executes if an error happens goes in the except clause."
   ]
  }
 ],
 "metadata": {
  "kernelspec": {
   "display_name": "Python 3 (ipykernel)",
   "language": "python",
   "name": "python3"
  },
  "language_info": {
   "codemirror_mode": {
    "name": "ipython",
    "version": 3
   },
   "file_extension": ".py",
   "mimetype": "text/x-python",
   "name": "python",
   "nbconvert_exporter": "python",
   "pygments_lexer": "ipython3",
   "version": "3.9.7"
  }
 },
 "nbformat": 4,
 "nbformat_minor": 5
}
