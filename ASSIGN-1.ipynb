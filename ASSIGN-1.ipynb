{
 "cells": [
  {
   "cell_type": "code",
   "execution_count": null,
   "id": "a211f25d",
   "metadata": {},
   "outputs": [],
   "source": [
    "1. In the below elements which of them are values or an expression? eg:- values can be integer or string and expressions will be mathematical operators.\n",
    "\n",
    "* \n",
    "'hello'\n",
    "-87.8\n",
    "- \n",
    "/ \n",
    "+\n",
    "6\n",
    "\n",
    "*,-,/,+ -> expression\n",
    "'hello',-87.8,6 ->values"
   ]
  },
  {
   "cell_type": "code",
   "execution_count": null,
   "id": "90c7a3b3",
   "metadata": {},
   "outputs": [],
   "source": [
    "2. What is the difference between string and variable?\n",
    "\n",
    "A variable is basically the name of the location in the primary memory of your computer. This can be chosen by you. A variable can store everything from strings to numbers. A string is the values inside the quotes assigned to a string.\n"
   ]
  },
  {
   "cell_type": "code",
   "execution_count": null,
   "id": "6ea6dea8",
   "metadata": {},
   "outputs": [],
   "source": [
    "3. Describe three different data types.\n",
    "\n",
    "  1.) String - A string is a collection of one or more characters put in a single quote, double-quote or triple quote. In        python there is no character data type, a character is a string of length one.\n",
    "      Ex: z='alekhya'\n",
    "  2.) Float - It is a real number with floating point representation. It is specified by a decimal point.\n",
    "      Ex: b='6.0'\n",
    "  3.) List - Lists are just like the arrays, declared in other languages which is a ordered collection of data. It is very flexible as the items in a list do not need to be of the same type.\n",
    "      Ex : l=['alee','teddy']\n",
    "      \n",
    "      "
   ]
  },
  {
   "cell_type": "code",
   "execution_count": null,
   "id": "5ba45814",
   "metadata": {},
   "outputs": [],
   "source": [
    "4. What is an expression made up of? What do all expressions do?\n",
    "\n",
    "An expression is a combination of values, variables, operators, and calls to functions. Expressions need to be evaluated. If you ask Python to print an expression, the interpreter evaluates the expression and displays the result.\n",
    "\n",
    "Ex: a+b-5\n"
   ]
  },
  {
   "cell_type": "code",
   "execution_count": null,
   "id": "b80cf181",
   "metadata": {},
   "outputs": [],
   "source": [
    "5. This assignment statements, like spam = 10. What is the difference between an expression and a statement?\n",
    "\n",
    "   Evaluation of an expression always Produces or returns a result value. Execution of a statement may or may not produces or displays a result value, it only does whatever the statement says.\n",
    "\n"
   ]
  },
  {
   "cell_type": "code",
   "execution_count": null,
   "id": "27a09364",
   "metadata": {},
   "outputs": [],
   "source": [
    "6. After running the following code, what does the variable bacon contain?\n",
    "bacon = 22\n",
    "bacon + 1\n",
    "\n",
    "bacon contains 22 because we are not assigning updated value to bacon so value doesn't change\n",
    "\n"
   ]
  },
  {
   "cell_type": "code",
   "execution_count": null,
   "id": "26ee1e0e",
   "metadata": {},
   "outputs": [],
   "source": [
    "7. What should the values of the following two terms be?\n",
    "'spam' + 'spamspam'\n",
    "'spam' * 3\n",
    " \n",
    "'spamspamspam'\n",
    "'spamspamspam'\n",
    "\n",
    "both values are same\n"
   ]
  },
  {
   "cell_type": "code",
   "execution_count": null,
   "id": "d3ebcb61",
   "metadata": {},
   "outputs": [],
   "source": [
    "8. Why is eggs a valid variable name while 100 is invalid?\n",
    "\n",
    "A variable name must start with a letter or the underscore character.A variable name can only contain alpha-numeric characters and underscores (A-z, 0-9, and _ ) and variable name cannot start with numbers.\n"
   ]
  },
  {
   "cell_type": "code",
   "execution_count": null,
   "id": "7ecc9643",
   "metadata": {},
   "outputs": [],
   "source": [
    "9. What three functions can be used to get the integer, floating-point number, or string version of a value?\n",
    "\n",
    "The int() , float() , and str( ) functions will evaluate to the integer, floating-point number, and string versions of the value passed to them.\n",
    "\n"
   ]
  },
  {
   "cell_type": "code",
   "execution_count": null,
   "id": "bf7caeea",
   "metadata": {},
   "outputs": [],
   "source": [
    "10. Why does this expression cause an error? How can you fix it?\n",
    "'I have eaten ' + 99 + ' burritos.'\n",
    "\n",
    "This expressions causes an error because we cannot concatenate string to int only string to string concatenate is possible\n",
    "We can fix this by making integer 99 to string 99\n",
    "'I have eaten' + '99' + 'burritos.'"
   ]
  }
 ],
 "metadata": {
  "kernelspec": {
   "display_name": "Python 3 (ipykernel)",
   "language": "python",
   "name": "python3"
  },
  "language_info": {
   "codemirror_mode": {
    "name": "ipython",
    "version": 3
   },
   "file_extension": ".py",
   "mimetype": "text/x-python",
   "name": "python",
   "nbconvert_exporter": "python",
   "pygments_lexer": "ipython3",
   "version": "3.9.7"
  }
 },
 "nbformat": 4,
 "nbformat_minor": 5
}
