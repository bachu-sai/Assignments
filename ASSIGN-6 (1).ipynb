{
 "cells": [
  {
   "cell_type": "code",
   "execution_count": null,
   "id": "5b8cbfee",
   "metadata": {},
   "outputs": [],
   "source": [
    "1. What are escape characters, and how do you use them?\n",
    "Escape characters represent characters in string values that would otherwise be difficult or impossible to type into code.\n"
   ]
  },
  {
   "cell_type": "code",
   "execution_count": null,
   "id": "ee18971e",
   "metadata": {},
   "outputs": [],
   "source": [
    "2. What do the escape characters n and t stand for?\n",
    "   \\n is a new line and \\t is a tab"
   ]
  },
  {
   "cell_type": "code",
   "execution_count": null,
   "id": "4699d4c5",
   "metadata": {},
   "outputs": [],
   "source": [
    "3. What is the way to include backslash characters in a string?\n",
    "The \\\\ escape character will represent a backslash character."
   ]
  },
  {
   "cell_type": "markdown",
   "id": "bc2b20a6",
   "metadata": {},
   "source": [
    "4. The string \"Howl's Moving Castle\" is a correct value. Why isn't the single quote character in the word Howl's not escaped a problem?\n",
    "The single quote in Howl's is fine because you’ve used double quotes to mark the beginning and end of the string."
   ]
  },
  {
   "cell_type": "markdown",
   "id": "b8a4da79",
   "metadata": {},
   "source": [
    "5. How do you write a string of newlines if you don't want to use the n character?\n",
    "Multiline strings allow you to use newlines in strings without the \\n escape character."
   ]
  },
  {
   "cell_type": "code",
   "execution_count": null,
   "id": "e6af743e",
   "metadata": {},
   "outputs": [],
   "source": [
    "6. What are the values of the given expressions?\n",
    "\n",
    "'Hello, world!'[1] gives 'e'\n",
    "'Hello, world!'[0:5] gives 'Hello'\n",
    "'Hello, world!'[:5] gives 'Hello'\n",
    "'Hello, world!'[3:] gives 'lo, world!'"
   ]
  },
  {
   "cell_type": "code",
   "execution_count": null,
   "id": "36c00044",
   "metadata": {},
   "outputs": [],
   "source": [
    "7. What are the values of the following expressions?\n",
    "\n",
    "'Hello'.upper() gives 'HELLO'\n",
    "'Hello'.upper().isupper() gives True\n",
    "'Hello'.upper().lower() gives 'hello'\n"
   ]
  },
  {
   "cell_type": "code",
   "execution_count": null,
   "id": "dd612f52",
   "metadata": {},
   "outputs": [],
   "source": [
    "8. What are the values of the following expressions?\n",
    "\n",
    "'Remember, remember, the fifth of July.'.split() gives ['Remember,', 'remember,', 'the', 'fifth', 'of', 'July.']\n",
    "'-'.join('There can only one.'.split()) gives 'There-can-only-one.'"
   ]
  },
  {
   "cell_type": "code",
   "execution_count": null,
   "id": "2207ef2d",
   "metadata": {},
   "outputs": [],
   "source": [
    "9. What are the methods for right-justifying, left-justifying, and centering a string?\n",
    "The rjust(), ljust(), and center() string methods"
   ]
  },
  {
   "cell_type": "code",
   "execution_count": null,
   "id": "fe8468e1",
   "metadata": {},
   "outputs": [],
   "source": [
    "10. What is the best way to remove whitespace characters from the start or end?\n",
    "The lstrip() and rstrip() methods remove whitespace from the left and right ends of a string"
   ]
  }
 ],
 "metadata": {
  "kernelspec": {
   "display_name": "Python 3 (ipykernel)",
   "language": "python",
   "name": "python3"
  },
  "language_info": {
   "codemirror_mode": {
    "name": "ipython",
    "version": 3
   },
   "file_extension": ".py",
   "mimetype": "text/x-python",
   "name": "python",
   "nbconvert_exporter": "python",
   "pygments_lexer": "ipython3",
   "version": "3.9.7"
  }
 },
 "nbformat": 4,
 "nbformat_minor": 5
}
