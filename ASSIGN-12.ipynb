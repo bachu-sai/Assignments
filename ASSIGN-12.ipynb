{
 "cells": [
  {
   "cell_type": "code",
   "execution_count": null,
   "id": "6d104e8d",
   "metadata": {},
   "outputs": [],
   "source": [
    "1. In what modes should the PdfFileReader() and PdfFileWriter() File objects will be opened?\n",
    "\n",
    "PdfFileReader() needs to be opened in read-binary mode by passing 'rb'. PdfFileWriter() needs to be opened in write-binary mode with 'wb'."
   ]
  },
  {
   "cell_type": "code",
   "execution_count": null,
   "id": "6cca1042",
   "metadata": {},
   "outputs": [],
   "source": [
    "2. From a PdfFileReader object, how do you get a Page object for page 5?\n",
    "\n",
    "You can get a Page object by calling the getPage() method on a PdfFileReader object and passing it the page number 5"
   ]
  },
  {
   "cell_type": "code",
   "execution_count": null,
   "id": "bd15e893",
   "metadata": {},
   "outputs": [],
   "source": [
    "3. What PdfFileReader variable stores the number of pages in the PDF document?\n",
    "\n",
    "The total number of pages in the document is stored in the numPages attribute of a PdfFileReader object "
   ]
  },
  {
   "cell_type": "code",
   "execution_count": null,
   "id": "344b17d3",
   "metadata": {},
   "outputs": [],
   "source": [
    "4. If a PdfFileReader object’s PDF is encrypted with the password swordfish, what must you do before you can obtain Page objects from it?\n",
    "\n",
    "import PyPDF2\n",
    "pd=PyPDF2.PdfFileReader(open('alee.pdf', 'rb'))\n",
    "pd.decrypt('swordfish')\n",
    "pageObj = pd.getPage(0)\n",
    "pageObj.extractText()"
   ]
  },
  {
   "cell_type": "code",
   "execution_count": null,
   "id": "643f1af2",
   "metadata": {},
   "outputs": [],
   "source": [
    "5. What methods do you use to rotate a page?\n",
    "\n",
    "The pages of a PDF can also be rotated in 90-degree increments with the rotateClockwise() and rotateCounterClockwise() methods. Pass one of the integers 90, 180, or 270 to these methods. "
   ]
  },
  {
   "cell_type": "code",
   "execution_count": null,
   "id": "01182c2c",
   "metadata": {},
   "outputs": [],
   "source": [
    "6. What is the difference between a Run object and a Paragraph object?\n",
    "\n",
    "The Document object contains a list of Paragraph objects for the paragraphs in the document.Each of these Paragraph objects contains a list of one or more Run objects.\n",
    "The text in a Word document is more than just a string. It has font, size, color, and other styling information associated with it. A style in Word is a collection of these attributes. \n",
    "A Run object is a contiguous run of text with the same style. A new Run object is needed whenever the text style changes.\n"
   ]
  },
  {
   "cell_type": "code",
   "execution_count": null,
   "id": "90ebde22",
   "metadata": {},
   "outputs": [],
   "source": [
    "7. How do you obtain a list of Paragraph objects for a Document object that’s stored in a variable named doc?\n",
    "\n",
    "import docx\n",
    "doc = docx.Document('demo.docx')\n",
    "len(doc.paragraphs)\n",
    "we open a .docx file in Python, call docx.Document(), and pass the filename demo.docx. This will return a Document object, which has a paragraphs attribute that is a list of Paragraph objects. When we call len() on doc.paragraphs, it returns length of list"
   ]
  },
  {
   "cell_type": "code",
   "execution_count": null,
   "id": "3ee5d779",
   "metadata": {},
   "outputs": [],
   "source": [
    "8. What type of object has bold, underline, italic, strike, and outline variables?\n",
    "\n",
    "Font object has bold,underline,italic,strike"
   ]
  },
  {
   "cell_type": "code",
   "execution_count": null,
   "id": "4a2568d8",
   "metadata": {},
   "outputs": [],
   "source": [
    "9. What is the difference between False, True, and None for the bold variable?\n",
    "\n",
    "True means the property is “on”, False means it is “off”. Conceptually, the None value means “inherit”. "
   ]
  },
  {
   "cell_type": "code",
   "execution_count": null,
   "id": "88152dbe",
   "metadata": {},
   "outputs": [],
   "source": [
    "10. How do you create a Document object for a new Word document?\n",
    "\n",
    "import docx\n",
    "doc=docx.Document()"
   ]
  },
  {
   "cell_type": "code",
   "execution_count": null,
   "id": "1bdf744a",
   "metadata": {},
   "outputs": [],
   "source": [
    "11. How do you add a paragraph with the text 'Hello, there!' to a Document object stored in a variable named doc?\n",
    "\n",
    "import docx\n",
    "doc=docx.Document()\n",
    "doc_para = doc.add_paragraph('Hello, there!')"
   ]
  },
  {
   "cell_type": "code",
   "execution_count": null,
   "id": "c3535646",
   "metadata": {},
   "outputs": [],
   "source": [
    "12. What integers represent the levels of headings available in Word documents?\n",
    "\n",
    "It is an integer number in the range 0-9. It raises ValueError if any value other than from this range is given as input."
   ]
  }
 ],
 "metadata": {
  "kernelspec": {
   "display_name": "Python 3 (ipykernel)",
   "language": "python",
   "name": "python3"
  },
  "language_info": {
   "codemirror_mode": {
    "name": "ipython",
    "version": 3
   },
   "file_extension": ".py",
   "mimetype": "text/x-python",
   "name": "python",
   "nbconvert_exporter": "python",
   "pygments_lexer": "ipython3",
   "version": "3.9.7"
  }
 },
 "nbformat": 4,
 "nbformat_minor": 5
}
