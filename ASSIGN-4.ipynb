{
 "cells": [
  {
   "cell_type": "code",
   "execution_count": null,
   "id": "480d693f",
   "metadata": {},
   "outputs": [],
   "source": [
    "1. What exactly is []?\n",
    "\n",
    "A list is created by placing elements inside square brackets [] , separated by commas."
   ]
  },
  {
   "cell_type": "code",
   "execution_count": null,
   "id": "8b557fbf",
   "metadata": {},
   "outputs": [],
   "source": [
    "2. In a list of values stored in a variable called spam, how would you assign the value 'hello' as the third value? (Assume [2, 4, 6, 8, 10] are in spam.)\n",
    "\n",
    "spam=[2,4,6,8,10]\n",
    "spam[2]='hello'\n",
    "print(spam)"
   ]
  },
  {
   "cell_type": "markdown",
   "id": "ec51ee46",
   "metadata": {},
   "source": [
    "Let's pretend the spam includes the list ['a','b','c','d'] for the next three queries."
   ]
  },
  {
   "cell_type": "code",
   "execution_count": null,
   "id": "66acad04",
   "metadata": {},
   "outputs": [],
   "source": [
    "3. What is the value of spam[int(int('3'*2)/11)]?\n",
    "\n",
    "spam[3] gives 'd' "
   ]
  },
  {
   "cell_type": "code",
   "execution_count": null,
   "id": "82828388",
   "metadata": {},
   "outputs": [],
   "source": [
    "4. What is the value of spam[-1]?\n",
    "\n",
    "spam[-1] gives 'd'"
   ]
  },
  {
   "cell_type": "code",
   "execution_count": null,
   "id": "6ce052da",
   "metadata": {},
   "outputs": [],
   "source": [
    "5. What is the value of spam[:2]?\n",
    "\n",
    "spam[:2] gives ['a','b']"
   ]
  },
  {
   "cell_type": "markdown",
   "id": "6becae7e",
   "metadata": {},
   "source": [
    "Let's pretend bacon has the list [3.14,'cat',11,'cat',True] for the next three queries."
   ]
  },
  {
   "cell_type": "code",
   "execution_count": null,
   "id": "5184f6c7",
   "metadata": {},
   "outputs": [],
   "source": [
    "6. What is the value of bacon.index('cat')?\n",
    "\n",
    "bacon.index('cat') gives 1 as index\n"
   ]
  },
  {
   "cell_type": "code",
   "execution_count": null,
   "id": "53deb24a",
   "metadata": {},
   "outputs": [],
   "source": [
    "7. How does bacon.append(99) change the look of the list value in bacon?\n",
    "\n",
    "bacon.append(99) gives [3.14,'cat',11,'cat',True,99]"
   ]
  },
  {
   "cell_type": "code",
   "execution_count": null,
   "id": "8f8ab7ba",
   "metadata": {},
   "outputs": [],
   "source": [
    "8. How does bacon.remove('cat') change the look of the list in bacon?\n",
    "\n",
    "bacon.remove('cat') gives [3.14, 11, 'cat', True]"
   ]
  },
  {
   "cell_type": "code",
   "execution_count": null,
   "id": "1501a97d",
   "metadata": {},
   "outputs": [],
   "source": [
    "9. What are the list concatenation and list replication operators?\n",
    "\n",
    "list concatenation is + while list replication is *"
   ]
  },
  {
   "cell_type": "code",
   "execution_count": null,
   "id": "8925b548",
   "metadata": {},
   "outputs": [],
   "source": [
    "10. What is difference between the list methods append() and insert()?\n",
    "\n",
    "append() where we can add the element only at end of the list.insert() is that insert function allows us to add a specific element at a specified index of the list "
   ]
  },
  {
   "cell_type": "code",
   "execution_count": null,
   "id": "28e35be5",
   "metadata": {},
   "outputs": [],
   "source": [
    "11. What are the two methods for removing items from a list?\n",
    "using remove() and pop() removing items from list\n"
   ]
  },
  {
   "cell_type": "code",
   "execution_count": null,
   "id": "94072a65",
   "metadata": {},
   "outputs": [],
   "source": [
    "12. Describe how list values and string values are identical.\n",
    "\n",
    "Both lists and strings can be passed to len(), have indexes and slices, be used in for loops, be concatenated or replicated, and be used with the in and not in operators."
   ]
  },
  {
   "cell_type": "code",
   "execution_count": null,
   "id": "be2b2d1f",
   "metadata": {},
   "outputs": [],
   "source": [
    "13. What is the difference between tuples and list?\n",
    "\n",
    "Lists are mutable; they can have values added, removed, or changed. Tuples are immutable; they cannot be changed at all. Also, tuples are written using parentheses, (  ), while lists use the square brackets, [  ]."
   ]
  },
  {
   "cell_type": "code",
   "execution_count": null,
   "id": "6bebe6e7",
   "metadata": {},
   "outputs": [],
   "source": [
    "14. How do you type a tuple value that only contains the integer 42?\n",
    "\n",
    "t=(42,)\n"
   ]
  },
  {
   "cell_type": "code",
   "execution_count": null,
   "id": "2498d1e9",
   "metadata": {},
   "outputs": [],
   "source": [
    "15. How do you get a list values tuple form? How do you get a tuple values list form?\n",
    "\n",
    "tuple() and list() functions"
   ]
  },
  {
   "cell_type": "code",
   "execution_count": null,
   "id": "7dda8cb9",
   "metadata": {},
   "outputs": [],
   "source": [
    "16. Variables that \"contain\" list values are not necessarily lists themselves. Instead, what do they contain?\n",
    "\n",
    "They contain references to list values.\n",
    "\n"
   ]
  },
  {
   "cell_type": "code",
   "execution_count": null,
   "id": "38ce172d",
   "metadata": {},
   "outputs": [],
   "source": [
    "17. How do you distinguish between copy.copy() and copy.deepcopy()?\n",
    "It means that any changes made to a copy of object do not reflect in the original object. In python, this is implemented using “deepcopy()” function.\n",
    "It means that any changes made to a copy of object do reflect in the original object. In python, this is implemented using “copy()” function."
   ]
  }
 ],
 "metadata": {
  "kernelspec": {
   "display_name": "Python 3 (ipykernel)",
   "language": "python",
   "name": "python3"
  },
  "language_info": {
   "codemirror_mode": {
    "name": "ipython",
    "version": 3
   },
   "file_extension": ".py",
   "mimetype": "text/x-python",
   "name": "python",
   "nbconvert_exporter": "python",
   "pygments_lexer": "ipython3",
   "version": "3.9.7"
  }
 },
 "nbformat": 4,
 "nbformat_minor": 5
}
